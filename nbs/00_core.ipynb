{
 "cells": [
  {
   "attachments": {},
   "cell_type": "markdown",
   "metadata": {},
   "source": [
    "# Core"
   ]
  },
  {
   "cell_type": "code",
   "execution_count": null,
   "metadata": {},
   "outputs": [],
   "source": [
    "#| default_exp core"
   ]
  },
  {
   "cell_type": "code",
   "execution_count": null,
   "metadata": {},
   "outputs": [],
   "source": [
    "#| export\n",
    "\n",
    "from dreamai_pdf.imports import *"
   ]
  },
  {
   "cell_type": "code",
   "execution_count": null,
   "metadata": {},
   "outputs": [],
   "source": [
    "#| export\n",
    "\n",
    "def cid_to_char(cidx: str):\n",
    "    try:\n",
    "        return chr(int(re.findall(r'\\(cid\\:(\\d+)\\)',cidx)[0]) + 29)\n",
    "    except:\n",
    "        return cidx\n",
    "\n",
    "def process_text(text: str):\n",
    "    text = text.strip()\n",
    "    text = cid_to_char(text)\n",
    "    text = re.sub(u'\\xa0', u' ', text)\n",
    "    text = re.sub(\" +\", \" \", text)\n",
    "    text = re.sub(r\"\\uf0b7\", \" \", text)\n",
    "    text = re.sub(r\"\\(cid:\\d{0,3}\\)\", \" \", text)\n",
    "    text = re.sub(r'•', \" \", text)\n",
    "    text = re.sub(r'●', \" \", text)\n",
    "    text = re.sub(r'▪', \" \", text)\n",
    "    text = re.sub(r'➢', \" \", text)\n",
    "    text = re.sub(r'\\u2013', \" \", text)\n",
    "    return text.strip()\n",
    "\n",
    "def extract_text(data_path: Union[str, Path, List[Union[str, Path]]]):\n",
    "    pdfs = resolve_data_path(data_path)\n",
    "    pdf_dict = {}\n",
    "    for file in pdfs:\n",
    "        if Path(file).suffix == '.pdf':\n",
    "            pdf = PdfReader(str(file))\n",
    "            pdf_text = []\n",
    "            for page in pdf.pages:\n",
    "                text = page.extract_text().splitlines()\n",
    "                for txt in text:\n",
    "                    txt = process_text(txt)\n",
    "                    if not txt.isspace() and len(txt) > 2:\n",
    "                        if len(txt) > 512:\n",
    "                            nw = 10\n",
    "                            # split txt into smaller chunks of size 20 words\n",
    "                            txt = txt.split()\n",
    "                            txt = [' '.join(txt[i:i+nw]) for i in range(0, len(txt), nw)]\n",
    "                        pdf_text.append(txt)\n",
    "                        \n",
    "                        # if len(page_text) == 0:\n",
    "                        #     page_text.append(txt)\n",
    "                        # else:\n",
    "                        #     txt2 = page_text[-1]\n",
    "                        #     if txt2[-1] not in ['.'] and len(txt2+txt) < 256:\n",
    "                        #         page_text[-1] = txt2 + ' ' + txt\n",
    "                        #     else:\n",
    "                        #         page_text.append(txt)\n",
    "                # pdf_text += page_text\n",
    "            pdf_dict[str(file)] = flatten_list(pdf_text)\n",
    "    return pdf_dict"
   ]
  },
  {
   "cell_type": "code",
   "execution_count": null,
   "metadata": {},
   "outputs": [],
   "source": [
    "#| hide\n",
    "import nbdev; nbdev.nbdev_export()"
   ]
  }
 ],
 "metadata": {
  "kernelspec": {
   "display_name": "python3",
   "language": "python",
   "name": "python3"
  }
 },
 "nbformat": 4,
 "nbformat_minor": 4
}
