{
 "cells": [
  {
   "cell_type": "raw",
   "metadata": {},
   "source": [
    "---\n",
    "author: [Hamza Farhan]\n",
    "date: 2023-05-31\n",
    "description: Trying out nbdev+Quarto\n",
    "tags: [technical]\n",
    "title: 'Dreamai_PDF'\n",
    "---"
   ]
  },
  {
   "cell_type": "code",
   "execution_count": null,
   "metadata": {},
   "outputs": [],
   "source": [
    "# | export\n",
    "\n",
    "from dreamai_pdf.imports import *\n",
    "from dreamai_pdf.core import *\n"
   ]
  },
  {
   "cell_type": "code",
   "execution_count": null,
   "metadata": {},
   "outputs": [],
   "source": [
    "# | export\n",
    "\n",
    "file = \"resume.pdf\"\n",
    "text_dict = extract_text_dict(file, n_lines=3)\n"
   ]
  },
  {
   "cell_type": "code",
   "execution_count": null,
   "metadata": {},
   "outputs": [
    {
     "data": {
      "text/plain": [
       "{'resume.pdf': [\"About me I am a lover of all things related to visual designs. I love incorporating interactive and visually stunning elements into my work. I'm hardworking, diligent, and dedicated-all\",\n",
       "  'qualities I put forward in everything I do. I am Motivated and Driven to focus efforts towards achieving success. Education',\n",
       "  'Bachelor of Fine Arts, Graphic Design Minnesota State University, Mankato 2017 - 2021 Work Experience',\n",
       "  'W eb Designer H2 Marketing Consultants: Intern Saint Louis, MO (Oct 2021 - Dec 2021) Lead UI/UX website design intern for a fast-paced design firm. Created',\n",
       "  'exceptional web design with 99% client satisfaction scores, Handled all composition, color, illustration, typography, and branding for client projects.',\n",
       "  'Cooordinated team work with the W eb Developers Dining Center MNSU: Manager On Campus Restaurant : Feb. 2017 - May 2021',\n",
       "  'Handled money and kept count Managed a crew and developed leadership Building brands loyalty by providing assistance with product information, wayfin -',\n",
       "  'ding and purchase processing Residential Life MNSU: Mail Coordinator On Campus Student Dorms : May 2020 - May 2021',\n",
       "  \"Improved communication with students Managed and delivered packages' Increased accuracy and improvement in serviceProfessional Skills\",\n",
       "  'Animating Graphics Proficiency in Adobe Cre - ative Suite',\n",
       "  'Business Rebranding Print and W eb Design Photography, Video Editing',\n",
       "  'User Experience Design HTML, CSS Personal Skills',\n",
       "  'Disruptive Thinker Excellent listening skills Motivated and Organized',\n",
       "  'T ime Management Service Oriented T eam Player',\n",
       "  'Sourabhhanumant.com Sourabh.hanumant@mnsu.edu Sourabh Hanumant',\n",
       "  'Sourabh HanumantSocials']}"
      ]
     },
     "execution_count": null,
     "metadata": {},
     "output_type": "execute_result"
    }
   ],
   "source": [
    "# | export\n",
    "\n",
    "text_dict\n"
   ]
  },
  {
   "cell_type": "code",
   "execution_count": null,
   "metadata": {},
   "outputs": [],
   "source": []
  }
 ],
 "metadata": {
  "kernelspec": {
   "display_name": "python3",
   "language": "python",
   "name": "python3"
  }
 },
 "nbformat": 4,
 "nbformat_minor": 2
}
