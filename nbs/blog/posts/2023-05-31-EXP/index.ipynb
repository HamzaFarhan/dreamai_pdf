{
 "cells": [
  {
   "cell_type": "raw",
   "metadata": {},
   "source": [
    "---\n",
    "author: [Hamza Farhan]\n",
    "date: 2023-05-31\n",
    "description: Using dreamai_pdf to divide a PDF into 'Work Experience', 'Education', 'Certifications' and 'Others' segments.\n",
    "title: 'Extract Segments from a PDF'\n",
    "---"
   ]
  },
  {
   "attachments": {},
   "cell_type": "markdown",
   "metadata": {},
   "source": [
    "We'll be using a sample resume PDF."
   ]
  },
  {
   "attachments": {},
   "cell_type": "markdown",
   "metadata": {},
   "source": [
    "<img src=\"resume.jpg\" width=\"600\">"
   ]
  },
  {
   "cell_type": "code",
   "execution_count": null,
   "metadata": {},
   "outputs": [],
   "source": [
    "from dreamai_pdf.imports import *\n",
    "from dreamai_pdf.core import *\n",
    "from dreamai_pdf.extract import *\n"
   ]
  },
  {
   "cell_type": "code",
   "execution_count": null,
   "metadata": {},
   "outputs": [],
   "source": [
    "#| hide\n",
    "\n",
    "%load_ext autoreload\n",
    "%autoreload 2\n",
    "%reload_ext autoreload"
   ]
  },
  {
   "attachments": {},
   "cell_type": "markdown",
   "metadata": {},
   "source": [
    "Let's first extract the text as a list of paragraphs."
   ]
  },
  {
   "attachments": {},
   "cell_type": "markdown",
   "metadata": {},
   "source": [
    "> n_lines = 3 means that each paragraph will have at most 3 lines."
   ]
  },
  {
   "cell_type": "code",
   "execution_count": null,
   "metadata": {},
   "outputs": [
    {
     "data": {
      "text/plain": [
       "['M A D E L E I N E G A U T H I E R D a t a E n t r y A n a l y s t Maddey@email.com (123) 456-7890 Tahoe Valley, CA',\n",
       " 'LinkedIn twitter.com W O R K E X P E R I E N C E Data Entry Operator',\n",
       " 'Heavenly Mountain Resort January 2021 - current South Lake Tahoe, CA Consolidated spreadsheets and reporting, increasing efficiency and',\n",
       " 'saving $26K in annual labor costs in 2021 Adopted computer-based reservations and payment processing structure, leading to a 74% reduction in manual work',\n",
       " 'Overhauled filing systems by upgrading to digital systems, saving 19+ monthly hours in repetitive manual input Organized data entry of 44 standard work orders, including',\n",
       " 'purchasing, shipping, and receiving Data Entry Clerk Intern Sierra-At-Tahoe Resort',\n",
       " 'May 2020 - November 2020 Twin Bridges, CA Logged data for 1,400+ yearly reservations, collecting demographic information that improved marketing performance by 13%',\n",
       " 'Consolidated paper and digital spreadsheets, ensuring systematized storage with a 51% reduction in retrieval time Utilized EntryPoint software to reduce errors by 33%, achieving',\n",
       " '99.5% accuracy Collaborated with 3 data entry team members to improve efficiency by 17% through shared systems development',\n",
       " 'P R O J E C T S Sunrise Movement Data Entry Volunteer',\n",
       " 'Standardized data entry systems for an organization of 21,000 student volunteers Streamlined merch ordering and logistical spreadsheets,',\n",
       " 'eliminating redundancies and upwards of $9K Established Zoho software adoption, improving communication between 4 data entry volunteers',\n",
       " 'Hosted 6 training events for organizing spreadsheets and data collection systems for grassroots organizationsC A R E E R O B J E C T I V E High School Senior with 2+ years of',\n",
       " 'relevant data entry experience. Seeking employment as a Data Entry Analyst with Emerald Bay Bed and Breakfast to',\n",
       " 'further develop skills in enhancing efficiency and improving customer experience.',\n",
       " 'E D U C A T I O N High school diploma South Tahoe High School',\n",
       " '2018 - current South Lake Tahoe, CA GPA: 3.6',\n",
       " 'S K I L L S Data Entry Software, including Microsoft Excel, Google Suites, Zoho,',\n",
       " 'and EntryPoint Resort Reception & Customer Service 65+ Words Per Minute Typing',\n",
       " 'Attention to Detail High Degree of Accuracy Problem Solving',\n",
       " 'C E R T I F I C A T I O N S Certified Data Entry Professional']"
      ]
     },
     "execution_count": null,
     "metadata": {},
     "output_type": "execute_result"
    }
   ],
   "source": [
    "file = \"resume.pdf\"\n",
    "text_dict = extract_text_dict(file, n_lines=3)\n",
    "text = text_dict[file]\n",
    "text\n"
   ]
  },
  {
   "attachments": {},
   "cell_type": "markdown",
   "metadata": {},
   "source": [
    "Now we'll load our model from Hugging Face and extract the segments."
   ]
  },
  {
   "cell_type": "code",
   "execution_count": null,
   "metadata": {},
   "outputs": [],
   "source": [
    "# |eval: false\n",
    "\n",
    "device = default_device()  # cuda if available else cpu\n",
    "model = load_segs_model(\"HamzaFarhan/PDFSegs\", device=device)\n"
   ]
  },
  {
   "cell_type": "code",
   "execution_count": null,
   "metadata": {},
   "outputs": [
    {
     "name": "stdout",
     "output_type": "stream",
     "text": [
      "\u001b[38;5;1m--------------------------------------------------------------------------------------------------------\u001b[0m\n",
      "\u001b[38;5;2mWork Experience: 18\u001b[0m\n",
      "\t('M A D E L E I N E G A U T H I E R D a t a E n t r y A n a l y s t Maddey@email.com (123) '\n",
      " '456-7890 Tahoe Valley, CA')\n",
      "\n",
      "\t'LinkedIn twitter.com W O R K E X P E R I E N C E Data Entry Operator'\n",
      "\n",
      "\t('Heavenly Mountain Resort January 2021 - current South Lake Tahoe, CA Consolidated spreadsheets '\n",
      " 'and reporting, increasing efficiency and')\n",
      "\n",
      "\t('saving $26K in annual labor costs in 2021 Adopted computer-based reservations and payment '\n",
      " 'processing structure, leading to a 74% reduction in manual work')\n",
      "\n",
      "\t('Overhauled filing systems by upgrading to digital systems, saving 19+ monthly hours in '\n",
      " 'repetitive manual input Organized data entry of 44 standard work orders, including')\n",
      "\n",
      "\t'purchasing, shipping, and receiving Data Entry Clerk Intern Sierra-At-Tahoe Resort'\n",
      "\n",
      "\t('May 2020 - November 2020 Twin Bridges, CA Logged data for 1,400+ yearly reservations, collecting '\n",
      " 'demographic information that improved marketing performance by 13%')\n",
      "\n",
      "\t('Consolidated paper and digital spreadsheets, ensuring systematized storage with a 51% reduction '\n",
      " 'in retrieval time Utilized EntryPoint software to reduce errors by 33%, achieving')\n",
      "\n",
      "\t('99.5% accuracy Collaborated with 3 data entry team members to improve efficiency by 17% through '\n",
      " 'shared systems development')\n",
      "\n",
      "\t'P R O J E C T S Sunrise Movement Data Entry Volunteer'\n",
      "\n",
      "\u001b[38;5;1m--------------------------------------------------------------------------------------------------------\u001b[0m\n",
      "\u001b[38;5;2mEducation: 2\u001b[0m\n",
      "\t'E D U C A T I O N High school diploma South Tahoe High School'\n",
      "\n",
      "\t'2018 - current South Lake Tahoe, CA GPA: 3.6'\n",
      "\n",
      "\u001b[38;5;1m--------------------------------------------------------------------------------------------------------\u001b[0m\n",
      "\u001b[38;5;2mCertifications: 1\u001b[0m\n",
      "\t'C E R T I F I C A T I O N S Certified Data Entry Professional'\n",
      "\n",
      "\u001b[38;5;1m--------------------------------------------------------------------------------------------------------\u001b[0m\n",
      "\u001b[38;5;2mOther: 0\u001b[0m\n",
      "\u001b[38;5;1m--------------------------------------------------------------------------------------------------------\u001b[0m\n"
     ]
    }
   ],
   "source": [
    "# |eval: false\n",
    "\n",
    "segments = text_to_segments(text, segs_model=model)[0]\n",
    "print_segments(segments)\n"
   ]
  },
  {
   "cell_type": "code",
   "execution_count": null,
   "metadata": {},
   "outputs": [],
   "source": []
  }
 ],
 "metadata": {
  "kernelspec": {
   "display_name": "python3",
   "language": "python",
   "name": "python3"
  }
 },
 "nbformat": 4,
 "nbformat_minor": 2
}
