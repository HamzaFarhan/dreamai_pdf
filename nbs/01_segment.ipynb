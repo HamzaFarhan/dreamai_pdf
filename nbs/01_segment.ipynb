{
 "cells": [
  {
   "attachments": {},
   "cell_type": "markdown",
   "metadata": {},
   "source": [
    "# Segment"
   ]
  },
  {
   "cell_type": "code",
   "execution_count": null,
   "metadata": {},
   "outputs": [],
   "source": [
    "#| default_exp segment"
   ]
  },
  {
   "cell_type": "code",
   "execution_count": null,
   "metadata": {},
   "outputs": [],
   "source": [
    "#| export\n",
    "\n",
    "from dreamai_pdf.imports import *\n",
    "from dreamai_pdf.core import *"
   ]
  },
  {
   "cell_type": "code",
   "execution_count": null,
   "metadata": {},
   "outputs": [],
   "source": [
    "#| export\n",
    "\n",
    "def text_to_segments(text: Union[str, List[str]], segs_model: SetFitModel,\n",
    "                     thresh: float=0.6, classes: List=['Work Experience', 'Education', 'Certifications', 'Other']):\n",
    "    preds = segs_model.predict(text).detach().cpu().numpy()\n",
    "    probs = segs_model.predict_proba(text).detach().cpu().numpy().max(1)\n",
    "    preds[probs < thresh] = 3\n",
    "    pred_classes = [classes[p] for p in preds]\n",
    "    segments = {pc:[] for pc in classes}\n",
    "    for i,pc in enumerate(pred_classes):\n",
    "        txt = text[i]\n",
    "        if txt not in segments[pc]:\n",
    "            segments[pc].append(text[i])\n",
    "    return segments, pred_classes, probs\n",
    "\n",
    "def print_segments(segments: dict, limit: int=10):\n",
    "    for k,v in segments.items():\n",
    "        print(f'{k}: {len(v)}')\n",
    "        for s in v[:limit]:\n",
    "            print('\\t', end='')\n",
    "            pprint(s, width=100)\n",
    "            print()\n",
    "        print('-'*100)\n",
    "        \n",
    "def load_segs_model(model_name: str='HamzaFarhan/PDFSegs', device: Union[str, torch.device]='cpu'):\n",
    "    return SetFitModel.from_pretrained(model_name).to(device)\n",
    "\n",
    "def load_ems_model(model_name: str='HamzaFarhan/PDFSegs', device: Union[str, torch.device]='cpu'):\n",
    "    return SentenceTransformer(model_name, device=device)\n",
    "\n",
    "def write_segments(segs_model: SetFitModel, data_path: Union[str, Path, List[Union[str, Path]]], output_path: Union[str, Path]='pdf_segments'):\n",
    "    \"\"\"\n",
    "    Extracts text from PDFs and writes segments to JSON files.\n",
    "    \n",
    "    Parameters\n",
    "    ----------\n",
    "    segs_model : SetFitModel\n",
    "        SetFit model for segment classification.\n",
    "    data_path : Union[str, Path, List[Union[str, Path]]]\n",
    "        Path to PDFs. Can be a single file, a directory, or a list of files/directories.\n",
    "    output_path : Union[str, Path]\n",
    "        Folder to write JSON files. Defaults to 'pdf_segments'.\n",
    "    \n",
    "    Returns\n",
    "    -------\n",
    "    None\n",
    "    \"\"\"\n",
    "    output_path = Path(output_path)\n",
    "    os.makedirs(output_path, exist_ok=True)\n",
    "    pdfs = resolve_data_path(data_path)\n",
    "    for file in pdfs:\n",
    "        try:\n",
    "            pdf_text = extract_text(file)[str(file)]\n",
    "            segments, _, _ = text_to_segments(pdf_text, segs_model, thresh=0.6)\n",
    "            fn = (output_path/Path(file).stem).with_suffix('.json')\n",
    "            with open(fn, 'w') as f:\n",
    "                json.dump(segments, f, indent=4)\n",
    "        except Exception as e:\n",
    "            print(f'\\nCould not write segments for file: {str(file)}\\n{e}')"
   ]
  },
  {
   "cell_type": "code",
   "execution_count": null,
   "metadata": {},
   "outputs": [],
   "source": [
    "#| hide\n",
    "import nbdev; nbdev.nbdev_export()"
   ]
  }
 ],
 "metadata": {
  "kernelspec": {
   "display_name": "python3",
   "language": "python",
   "name": "python3"
  }
 },
 "nbformat": 4,
 "nbformat_minor": 4
}
